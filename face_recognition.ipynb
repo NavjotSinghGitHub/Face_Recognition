{
 "cells": [
  {
   "cell_type": "code",
   "execution_count": 1,
   "metadata": {},
   "outputs": [],
   "source": [
    "import os\n",
    "import numpy as np"
   ]
  },
  {
   "cell_type": "code",
   "execution_count": 2,
   "metadata": {},
   "outputs": [],
   "source": [
    "files = os.listdir()\n",
    "d = {}\n",
    "count = 0"
   ]
  },
  {
   "cell_type": "code",
   "execution_count": 3,
   "metadata": {},
   "outputs": [],
   "source": [
    "X = None\n",
    "Y = []"
   ]
  },
  {
   "cell_type": "code",
   "execution_count": 4,
   "metadata": {},
   "outputs": [],
   "source": [
    "for f in files:\n",
    "    if f.endswith(\".npy\"):\n",
    "        data = np.load(f)\n",
    "        d[count] = f[:-4]\n",
    "        \n",
    "        if X is None:\n",
    "            X = data\n",
    "            target = count*np.ones((data.shape[0]))\n",
    "            Y.append(target)\n",
    "            \n",
    "        else:\n",
    "            X = np.vstack((X, data))\n",
    "            target = count*np.ones(data.shape[0])\n",
    "            Y.append(target)\n",
    "            \n",
    "        count = count+1"
   ]
  },
  {
   "cell_type": "code",
   "execution_count": 5,
   "metadata": {},
   "outputs": [],
   "source": [
    "Y = np.array(Y)\n",
    "Y = Y.reshape((len(d)*20,))"
   ]
  },
  {
   "cell_type": "code",
   "execution_count": 6,
   "metadata": {},
   "outputs": [],
   "source": [
    "def dist(a1, a2):\n",
    "    return np.sum((a1-a2)**2)**.5"
   ]
  },
  {
   "cell_type": "code",
   "execution_count": 7,
   "metadata": {},
   "outputs": [],
   "source": [
    "def knn(X, Y, q, k=5):\n",
    "    m = X.shape[0]\n",
    "    l = []\n",
    "    \n",
    "    for i in range(m):\n",
    "        d = dist(q, X[i])\n",
    "        l.append((d, Y[i]))\n",
    "        \n",
    "    l.sort()\n",
    "    l = np.array(l[:k])\n",
    "    l = l[:1]\n",
    "    \n",
    "    uniq, freq = np.unique(l, return_counts = True)\n",
    "    p = np.argmax(freq)\n",
    "    pred = uniq[p]\n",
    "    return int(pred)"
   ]
  },
  {
   "cell_type": "code",
   "execution_count": 8,
   "metadata": {},
   "outputs": [],
   "source": [
    "import cv2\n",
    "import numpy as np"
   ]
  },
  {
   "cell_type": "code",
   "execution_count": 9,
   "metadata": {},
   "outputs": [],
   "source": [
    "camera = cv2.VideoCapture(0)\n",
    "face_detector = cv2.CascadeClassifier(\"FaceCascade/templatedata.xml\")"
   ]
  },
  {
   "cell_type": "code",
   "execution_count": null,
   "metadata": {},
   "outputs": [],
   "source": [
    "while True:\n",
    "    ret, img = camera.read()\n",
    "    if ret==False:\n",
    "        continue\n",
    "    \n",
    "    faces = face_detector.detectMultiScale(img, 1.3, 5)\n",
    "    if len(faces)==0:\n",
    "        continue\n",
    "        \n",
    "    face = faces[0]\n",
    "    x, y, w, h = face\n",
    "    cv2.rectangle(img, (x, y), (x+w, y+h), (0, 255, 0), 5)\n",
    "    \n",
    "    cropped_img = img[y:y+h, x:x+w, :]\n",
    "    cropped_img = cv2.resize(cropped_img, (100, 100))\n",
    "    \n",
    "    label = knn(X, Y, cropped_img, 7)\n",
    "    name = d[label]\n",
    "    \n",
    "    font = cv2.FONT_HERSHEY_SIMPLEX\n",
    "    cv2.putText(img, name, (x, y-10), font, 1, (0, 255, 0), 4, cv2.LINE_AA)\n",
    "    cv2.imshow(\"Face_Recognition\", img)\n",
    "    \n",
    "    key = cv2.waitKey(1) & 0xFF\n",
    "    if key==ord('q'):\n",
    "        break\n",
    "        \n",
    "camera.release()\n",
    "cv2.destroyAllWindows()"
   ]
  }
 ],
 "metadata": {
  "kernelspec": {
   "display_name": "Python 3",
   "language": "python",
   "name": "python3"
  },
  "language_info": {
   "codemirror_mode": {
    "name": "ipython",
    "version": 3
   },
   "file_extension": ".py",
   "mimetype": "text/x-python",
   "name": "python",
   "nbconvert_exporter": "python",
   "pygments_lexer": "ipython3",
   "version": "3.8.3"
  }
 },
 "nbformat": 4,
 "nbformat_minor": 4
}
