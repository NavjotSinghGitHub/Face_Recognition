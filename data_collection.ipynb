{
 "cells": [
  {
   "cell_type": "code",
   "execution_count": 1,
   "metadata": {},
   "outputs": [],
   "source": [
    "import cv2\n",
    "import numpy as np"
   ]
  },
  {
   "cell_type": "code",
   "execution_count": 2,
   "metadata": {},
   "outputs": [],
   "source": [
    "camera = cv2.VideoCapture(0)"
   ]
  },
  {
   "cell_type": "code",
   "execution_count": 3,
   "metadata": {},
   "outputs": [],
   "source": [
    "face_detector = cv2.CascadeClassifier(\"FaceCascade/templatedata.xml\")"
   ]
  },
  {
   "cell_type": "code",
   "execution_count": 4,
   "metadata": {},
   "outputs": [],
   "source": [
    "face_data = []"
   ]
  },
  {
   "cell_type": "code",
   "execution_count": 5,
   "metadata": {},
   "outputs": [],
   "source": [
    "count = 0"
   ]
  },
  {
   "cell_type": "code",
   "execution_count": 6,
   "metadata": {},
   "outputs": [
    {
     "name": "stdout",
     "output_type": "stream",
     "text": [
      "Enter your name: Navjot_Singh\n"
     ]
    }
   ],
   "source": [
    "filename = input(\"Enter your name: \")"
   ]
  },
  {
   "cell_type": "code",
   "execution_count": 7,
   "metadata": {},
   "outputs": [
    {
     "name": "stdout",
     "output_type": "stream",
     "text": [
      "Pics Clicked:  1\n",
      "Pics Clicked:  2\n",
      "Pics Clicked:  3\n",
      "Pics Clicked:  4\n",
      "Pics Clicked:  5\n",
      "Pics Clicked:  6\n",
      "Pics Clicked:  7\n",
      "Pics Clicked:  8\n",
      "Pics Clicked:  9\n",
      "Pics Clicked:  10\n",
      "Pics Clicked:  11\n",
      "Pics Clicked:  12\n",
      "Pics Clicked:  13\n",
      "Pics Clicked:  14\n",
      "Pics Clicked:  15\n",
      "Pics Clicked:  16\n",
      "Pics Clicked:  17\n",
      "Pics Clicked:  18\n",
      "Pics Clicked:  19\n",
      "Pics Clicked:  20\n",
      "(20, 100, 100, 3)\n"
     ]
    }
   ],
   "source": [
    "while True:\n",
    "    ret, img = camera.read()\n",
    "    if ret==False:\n",
    "        continue\n",
    "    \n",
    "    faces = face_detector.detectMultiScale(img, 1.3, 5)\n",
    "    if len(faces)==0:\n",
    "        continue\n",
    "    \n",
    "    face = faces[0]\n",
    "    \n",
    "    x, y, w, h = face\n",
    "    cv2.rectangle(img, (x, y), (x+w, y+h), (0, 255, 0), 5)\n",
    "    cropped_img = img[y:y+h, x:x+w, :]\n",
    "    cropped_img = cv2.resize(cropped_img, (100, 100))\n",
    "    cv2.imshow(\"Image\", img)\n",
    "    cv2.imshow(\"Cropped_Image\", cropped_img)\n",
    "    count = count+1\n",
    "    \n",
    "    if count%10==0:\n",
    "        face_data.append(cropped_img)\n",
    "        print(\"Pics Clicked: \", len(face_data))\n",
    "        \n",
    "    cv2.waitKey(1)\n",
    "    if count==200:\n",
    "        break\n",
    "    \n",
    "face_data = np.asarray(face_data)\n",
    "print(face_data.shape)\n",
    "np.save(filename+\".npy\", face_data)\n",
    "\n",
    "camera.release()\n",
    "cv2.destroyAllWindows()"
   ]
  }
 ],
 "metadata": {
  "kernelspec": {
   "display_name": "Python 3",
   "language": "python",
   "name": "python3"
  },
  "language_info": {
   "codemirror_mode": {
    "name": "ipython",
    "version": 3
   },
   "file_extension": ".py",
   "mimetype": "text/x-python",
   "name": "python",
   "nbconvert_exporter": "python",
   "pygments_lexer": "ipython3",
   "version": "3.8.3"
  }
 },
 "nbformat": 4,
 "nbformat_minor": 4
}
